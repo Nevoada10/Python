{
 "cells": [
  {
   "cell_type": "code",
   "execution_count": 3,
   "id": "8fdc1035",
   "metadata": {},
   "outputs": [
    {
     "name": "stdout",
     "output_type": "stream",
     "text": [
      "50 50 49 36 10 5 4 2 "
     ]
    }
   ],
   "source": [
    "num = [2, 5, 10, 4, 50, 36, 50, 49]\n",
    "for i in num:\n",
    "    x = 0\n",
    "\n",
    "for i in sorted(num, reverse=True):  # Write numbers in descending order.\n",
    "    print(f\"{i}\", end=' ')"
   ]
  },
  {
   "cell_type": "code",
   "execution_count": 4,
   "id": "db5c9168",
   "metadata": {},
   "outputs": [
    {
     "name": "stdout",
     "output_type": "stream",
     "text": [
      "Salah Messi Harry CR7 CR7 Harry Messi Salah "
     ]
    }
   ],
   "source": [
    "players = [\"Messi\", \"CR7\", \"Salah\", \"Harry\"]\n",
    "\n",
    "for i in sorted(players, reverse=True):\n",
    "    print(i,end=' ')\n",
    "\n",
    "for i in sorted(players):\n",
    "    print(i, end=' ')"
   ]
  },
  {
   "cell_type": "code",
   "execution_count": 10,
   "id": "fe92931a",
   "metadata": {},
   "outputs": [
    {
     "name": "stdout",
     "output_type": "stream",
     "text": [
      "a 3\n",
      "b 4\n",
      "c 2\n",
      "e 9\n",
      "f 1\n"
     ]
    }
   ],
   "source": [
    "d = {'f': 1, 'b': 4, 'a': 3, 'e': 9, 'c': 2}\n",
    "for x, y in sorted(d.items()):\n",
    "    print(x, y)"
   ]
  },
  {
   "cell_type": "code",
   "execution_count": 9,
   "id": "abb4733a",
   "metadata": {},
   "outputs": [
    {
     "name": "stdout",
     "output_type": "stream",
     "text": [
      "('a', 3)\n",
      "('b', 4)\n",
      "('c', 2)\n",
      "('e', 9)\n",
      "('f', 1)\n"
     ]
    }
   ],
   "source": [
    "d = {'f': 1, 'b': 4, 'a': 3, 'e': 9, 'c': 2}\n",
    "for i in sorted(d.items()):\n",
    "    print(i)"
   ]
  },
  {
   "cell_type": "code",
   "execution_count": 12,
   "id": "98bbbf6c",
   "metadata": {},
   "outputs": [
    {
     "name": "stdout",
     "output_type": "stream",
     "text": [
      "1\n",
      "2\n",
      "3\n",
      "4\n",
      "9\n",
      "a\n",
      "b\n",
      "c\n",
      "e\n",
      "f\n",
      "Harry\n",
      "Salah\n",
      "CR7\n",
      "Messi\n"
     ]
    }
   ],
   "source": [
    "d = {'f': 1, 'b': 4, 'a': 3, 'e': 9, 'c': 2}\n",
    "for i in sorted(d.values()):\n",
    "    print(i)\n",
    "for i in sorted((d.keys())):\n",
    "    print(i)\n",
    "for i in reversed(players):\n",
    "    print(i)"
   ]
  },
  {
   "cell_type": "code",
   "execution_count": 13,
   "id": "5098917f",
   "metadata": {},
   "outputs": [
    {
     "name": "stdout",
     "output_type": "stream",
     "text": [
      "{'name': 'Lion', 'age': 30}\n",
      "{'name': 'Leopard', 'age': 18}\n"
     ]
    }
   ],
   "source": [
    "animals = [{\"name\": \"Dog\", \"age\": 11},\n",
    "           {\"name\": \"Lion\", \"age\": 30},\n",
    "           {\"name\": \"Elephant\", \"age\": 63},\n",
    "           {\"name\": \"Leopard\", \"age\": 18}, ]\n",
    "\n",
    "for animals in filter(lambda i: i[\"age\"] % 2 == 0, animals):\n",
    "    print(animals)"
   ]
  },
  {
   "cell_type": "code",
   "execution_count": 16,
   "id": "0b602ffd",
   "metadata": {},
   "outputs": [
    {
     "name": "stdout",
     "output_type": "stream",
     "text": [
      "Israel\n",
      "Japan\n",
      "Brazil\n",
      "Canada\n",
      "India\n",
      "[]\n"
     ]
    }
   ],
   "source": [
    "country = [\"India\", \"Canada\", \"Brazil\", \"Japan\", \"Israel\"]\n",
    "\n",
    "while country:\n",
    "    last_country = country.pop(-1)\n",
    "    print(last_country)\n",
    "    \n",
    "\n",
    "# while country:  # Also works.\n",
    "#    print(country.pop(-1))\n",
    "# print(country)\n",
    "\n",
    "print(country)"
   ]
  },
  {
   "cell_type": "code",
   "execution_count": 20,
   "id": "dd224f8f",
   "metadata": {},
   "outputs": [
    {
     "name": "stdout",
     "output_type": "stream",
     "text": [
      "9\n",
      "8\n",
      "7\n",
      "6\n",
      "5\n",
      "4\n",
      "3\n",
      "2\n",
      "1\n",
      "0\n"
     ]
    }
   ],
   "source": [
    "num = 10\n",
    "\n",
    "while num > 0:\n",
    "    num -= 1\n",
    "    print(num)"
   ]
  },
  {
   "cell_type": "code",
   "execution_count": 21,
   "id": "b0712b1f",
   "metadata": {},
   "outputs": [
    {
     "name": "stdout",
     "output_type": "stream",
     "text": [
      "Enter an integer:3\n",
      "The product of 3 multiplied by 5 is 15\n"
     ]
    },
    {
     "ename": "KeyboardInterrupt",
     "evalue": "Interrupted by user",
     "output_type": "error",
     "traceback": [
      "\u001b[0;31m---------------------------------------------------------------------------\u001b[0m",
      "\u001b[0;31mKeyboardInterrupt\u001b[0m                         Traceback (most recent call last)",
      "Cell \u001b[0;32mIn[21], line 2\u001b[0m\n\u001b[1;32m      1\u001b[0m \u001b[38;5;28;01mwhile\u001b[39;00m \u001b[38;5;28;01mTrue\u001b[39;00m:\n\u001b[0;32m----> 2\u001b[0m     num \u001b[38;5;241m=\u001b[39m \u001b[38;5;28mint\u001b[39m(\u001b[38;5;28minput\u001b[39m(\u001b[38;5;124m\"\u001b[39m\u001b[38;5;124mEnter an integer:\u001b[39m\u001b[38;5;124m\"\u001b[39m))\n\u001b[1;32m      3\u001b[0m     \u001b[38;5;28mprint\u001b[39m(\u001b[38;5;124mf\u001b[39m\u001b[38;5;124m\"\u001b[39m\u001b[38;5;124mThe product of \u001b[39m\u001b[38;5;132;01m{\u001b[39;00mnum\u001b[38;5;132;01m}\u001b[39;00m\u001b[38;5;124m multiplied by 5 is \u001b[39m\u001b[38;5;132;01m{\u001b[39;00mnum\u001b[38;5;241m*\u001b[39m\u001b[38;5;241m5\u001b[39m\u001b[38;5;132;01m}\u001b[39;00m\u001b[38;5;124m\"\u001b[39m)\n",
      "File \u001b[0;32m~/anaconda3/lib/python3.11/site-packages/ipykernel/kernelbase.py:1202\u001b[0m, in \u001b[0;36mKernel.raw_input\u001b[0;34m(self, prompt)\u001b[0m\n\u001b[1;32m   1200\u001b[0m     msg \u001b[38;5;241m=\u001b[39m \u001b[38;5;124m\"\u001b[39m\u001b[38;5;124mraw_input was called, but this frontend does not support input requests.\u001b[39m\u001b[38;5;124m\"\u001b[39m\n\u001b[1;32m   1201\u001b[0m     \u001b[38;5;28;01mraise\u001b[39;00m StdinNotImplementedError(msg)\n\u001b[0;32m-> 1202\u001b[0m \u001b[38;5;28;01mreturn\u001b[39;00m \u001b[38;5;28mself\u001b[39m\u001b[38;5;241m.\u001b[39m_input_request(\n\u001b[1;32m   1203\u001b[0m     \u001b[38;5;28mstr\u001b[39m(prompt),\n\u001b[1;32m   1204\u001b[0m     \u001b[38;5;28mself\u001b[39m\u001b[38;5;241m.\u001b[39m_parent_ident[\u001b[38;5;124m\"\u001b[39m\u001b[38;5;124mshell\u001b[39m\u001b[38;5;124m\"\u001b[39m],\n\u001b[1;32m   1205\u001b[0m     \u001b[38;5;28mself\u001b[39m\u001b[38;5;241m.\u001b[39mget_parent(\u001b[38;5;124m\"\u001b[39m\u001b[38;5;124mshell\u001b[39m\u001b[38;5;124m\"\u001b[39m),\n\u001b[1;32m   1206\u001b[0m     password\u001b[38;5;241m=\u001b[39m\u001b[38;5;28;01mFalse\u001b[39;00m,\n\u001b[1;32m   1207\u001b[0m )\n",
      "File \u001b[0;32m~/anaconda3/lib/python3.11/site-packages/ipykernel/kernelbase.py:1245\u001b[0m, in \u001b[0;36mKernel._input_request\u001b[0;34m(self, prompt, ident, parent, password)\u001b[0m\n\u001b[1;32m   1242\u001b[0m \u001b[38;5;28;01mexcept\u001b[39;00m \u001b[38;5;167;01mKeyboardInterrupt\u001b[39;00m:\n\u001b[1;32m   1243\u001b[0m     \u001b[38;5;66;03m# re-raise KeyboardInterrupt, to truncate traceback\u001b[39;00m\n\u001b[1;32m   1244\u001b[0m     msg \u001b[38;5;241m=\u001b[39m \u001b[38;5;124m\"\u001b[39m\u001b[38;5;124mInterrupted by user\u001b[39m\u001b[38;5;124m\"\u001b[39m\n\u001b[0;32m-> 1245\u001b[0m     \u001b[38;5;28;01mraise\u001b[39;00m \u001b[38;5;167;01mKeyboardInterrupt\u001b[39;00m(msg) \u001b[38;5;28;01mfrom\u001b[39;00m \u001b[38;5;28;01mNone\u001b[39;00m\n\u001b[1;32m   1246\u001b[0m \u001b[38;5;28;01mexcept\u001b[39;00m \u001b[38;5;167;01mException\u001b[39;00m:\n\u001b[1;32m   1247\u001b[0m     \u001b[38;5;28mself\u001b[39m\u001b[38;5;241m.\u001b[39mlog\u001b[38;5;241m.\u001b[39mwarning(\u001b[38;5;124m\"\u001b[39m\u001b[38;5;124mInvalid Message:\u001b[39m\u001b[38;5;124m\"\u001b[39m, exc_info\u001b[38;5;241m=\u001b[39m\u001b[38;5;28;01mTrue\u001b[39;00m)\n",
      "\u001b[0;31mKeyboardInterrupt\u001b[0m: Interrupted by user"
     ]
    }
   ],
   "source": [
    "while True:\n",
    "    num = int(input(\"Enter an integer:\"))\n",
    "    print(f\"The product of {num} multiplied by 5 is {num*5}.\")\n",
    "    "
   ]
  },
  {
   "cell_type": "code",
   "execution_count": 24,
   "id": "2f3ae333",
   "metadata": {},
   "outputs": [
    {
     "name": "stdout",
     "output_type": "stream",
     "text": [
      "(0, 'The')\n",
      "(1, 'brown')\n",
      "(2, 'fox')\n",
      "(3, 'jumped')\n",
      "(4, 'over')\n",
      "(5, 'the')\n",
      "(6, 'lazy')\n",
      "(7, 'dog')\n",
      "(8, '.')\n"
     ]
    }
   ],
   "source": [
    "for i in enumerate([\"The\",\"brown\",\"fox\",\"jumped\",\"over\",\"the\", \"lazy\", \"dog\", '.']):\n",
    "    print(i)"
   ]
  },
  {
   "cell_type": "code",
   "execution_count": 25,
   "id": "17742534",
   "metadata": {},
   "outputs": [
    {
     "name": "stdout",
     "output_type": "stream",
     "text": [
      "0 The\n",
      "1 brown\n",
      "2 fox\n",
      "3 jumped\n",
      "4 over\n",
      "5 the\n",
      "6 lazy\n",
      "7 dog\n",
      "8 .\n"
     ]
    }
   ],
   "source": [
    "for key,value in enumerate([\"The\",\"brown\",\"fox\",\"jumped\",\"over\",\"the\", \"lazy\", \"dog\", '.']):\n",
    "    print(key,value)"
   ]
  },
  {
   "cell_type": "code",
   "execution_count": null,
   "id": "4f1b0bb9",
   "metadata": {},
   "outputs": [],
   "source": [
    "for key,value in enumerate([\"The\",\"brown\",\"fox\",\"jumped\",\"over\",\"the\", \"lazy\", \"dog\", '.']):\n",
    "    print(key,value)"
   ]
  }
 ],
 "metadata": {
  "kernelspec": {
   "display_name": "Python 3 (ipykernel)",
   "language": "python",
   "name": "python3"
  },
  "language_info": {
   "codemirror_mode": {
    "name": "ipython",
    "version": 3
   },
   "file_extension": ".py",
   "mimetype": "text/x-python",
   "name": "python",
   "nbconvert_exporter": "python",
   "pygments_lexer": "ipython3",
   "version": "3.11.5"
  }
 },
 "nbformat": 4,
 "nbformat_minor": 5
}
